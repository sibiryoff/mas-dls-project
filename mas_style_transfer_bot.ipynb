{
  "nbformat": 4,
  "nbformat_minor": 0,
  "metadata": {
    "colab": {
      "name": "mas_style_transfer_bot.ipynb",
      "provenance": []
    },
    "kernelspec": {
      "name": "python3",
      "display_name": "Python 3"
    }
  },
  "cells": [
    {
      "cell_type": "code",
      "metadata": {
        "id": "x6KHvgh2gpng",
        "colab_type": "code",
        "colab": {}
      },
      "source": [
        "# !pip install pytelegrambotapi"
      ],
      "execution_count": 0,
      "outputs": []
    },
    {
      "cell_type": "code",
      "metadata": {
        "id": "d6riZvsBBHtf",
        "colab_type": "code",
        "colab": {}
      },
      "source": [
        "# !pip3 install torch torchvision\n",
        "# !pip3 install Pillow==6.2.2"
      ],
      "execution_count": 0,
      "outputs": []
    },
    {
      "cell_type": "code",
      "metadata": {
        "id": "-bBJj1USk2py",
        "colab_type": "code",
        "outputId": "d862844e-8477-487c-f198-191e1e07d2b5",
        "colab": {
          "base_uri": "https://localhost:8080/",
          "height": 34
        }
      },
      "source": [
        "from google.colab import drive\n",
        "drive.mount('/content/drive')"
      ],
      "execution_count": 3,
      "outputs": [
        {
          "output_type": "stream",
          "text": [
            "Drive already mounted at /content/drive; to attempt to forcibly remount, call drive.mount(\"/content/drive\", force_remount=True).\n"
          ],
          "name": "stdout"
        }
      ]
    },
    {
      "cell_type": "code",
      "metadata": {
        "id": "r8S-5dknn4sI",
        "colab_type": "code",
        "colab": {}
      },
      "source": [
        "import sys\n",
        "sys.path.append('/content/drive/My Drive/Colab Notebooks/DLS-project')"
      ],
      "execution_count": 0,
      "outputs": []
    },
    {
      "cell_type": "code",
      "metadata": {
        "id": "jJHyuTzxoFSB",
        "colab_type": "code",
        "colab": {}
      },
      "source": [
        "# это рядом лежащий модуль\n",
        "import style_transfer as st"
      ],
      "execution_count": 0,
      "outputs": []
    },
    {
      "cell_type": "code",
      "metadata": {
        "id": "eBH94R3mhiuv",
        "colab_type": "code",
        "colab": {}
      },
      "source": [
        "token = \"===secret===\""
      ],
      "execution_count": 0,
      "outputs": []
    },
    {
      "cell_type": "code",
      "metadata": {
        "id": "qBRK-rUAg9r9",
        "colab_type": "code",
        "colab": {}
      },
      "source": [
        "import telebot\n",
        "from io import BytesIO"
      ],
      "execution_count": 0,
      "outputs": []
    },
    {
      "cell_type": "code",
      "metadata": {
        "id": "hQBHDV1IhH4Y",
        "colab_type": "code",
        "colab": {}
      },
      "source": [
        "from telebot import types\n",
        "\n",
        "options_markup = types.ReplyKeyboardMarkup(row_width=2, resize_keyboard=True, one_time_keyboard=True)\n",
        "options_markup_btn1 = types.KeyboardButton('Обычный')\n",
        "options_markup_btn2 = types.KeyboardButton('GAN')\n",
        "options_markup.add(options_markup_btn1, options_markup_btn2)\n",
        "\n",
        "start_markup = types.ReplyKeyboardMarkup(row_width=1, resize_keyboard=True, one_time_keyboard=True)\n",
        "start_markup_btn1 = types.KeyboardButton('Начать')\n",
        "start_markup.add(start_markup_btn1)\n",
        "\n",
        "hideBoard = types.ReplyKeyboardRemove()"
      ],
      "execution_count": 0,
      "outputs": []
    },
    {
      "cell_type": "code",
      "metadata": {
        "id": "B18iWVtfhRiT",
        "colab_type": "code",
        "colab": {}
      },
      "source": [
        "file_path_tpl = \"https://api.telegram.org/file/bot{token}/{file_path}\"\n",
        "chats_online = []\n",
        "__chat_pictures = {}"
      ],
      "execution_count": 0,
      "outputs": []
    },
    {
      "cell_type": "code",
      "metadata": {
        "id": "zp8L9yIXidOw",
        "colab_type": "code",
        "colab": {}
      },
      "source": [
        "bot = telebot.TeleBot(token)"
      ],
      "execution_count": 0,
      "outputs": []
    },
    {
      "cell_type": "code",
      "metadata": {
        "id": "jJkmx_74ifJv",
        "colab_type": "code",
        "colab": {}
      },
      "source": [
        "def start(message):\n",
        "    if message.chat.id not in chats_online:\n",
        "        msg = bot.send_message(message.chat.id,\n",
        "                               'Привет! Я бот, созданный для демонстрации выпускного проекта '\n",
        "                               'курса DLS-2019-2020, автор - Михаил Сибирёв.\\n '\n",
        "                               'Для начала выберите режим работы: обычный style transfer или с применением GAN',\n",
        "                               reply_markup=options_markup)\n",
        "        chats_online.append(message.chat.id)\n",
        "        bot.register_next_step_handler(msg, style_transfer)"
      ],
      "execution_count": 0,
      "outputs": []
    },
    {
      "cell_type": "code",
      "metadata": {
        "id": "U3YQyYXiiuG3",
        "colab_type": "code",
        "colab": {}
      },
      "source": [
        "def style_transfer(message):\n",
        "    text = message.text.lower()\n",
        "    if text == 'обычный':\n",
        "        msg = bot.send_message(message.chat.id,\n",
        "                               'Вы выбрали обычный вариант style transfer. Теперь пришлите первую картинку (контент).')\n",
        "        bot.register_next_step_handler(msg, get_first_picture)\n",
        "    elif text == 'gan':\n",
        "        msg = bot.send_message(message.chat.id,\n",
        "                               'GAN сейчас не работает, извините. :)', reply_markup=options_markup)\n",
        "        bot.register_next_step_handler(msg, style_transfer)\n",
        "    else:\n",
        "        bot.send_message(message.chat.id, 'Неизвестная команда. Начните сначала.', reply_markup=options_markup)"
      ],
      "execution_count": 0,
      "outputs": []
    },
    {
      "cell_type": "code",
      "metadata": {
        "id": "BFB-Z412ipse",
        "colab_type": "code",
        "colab": {}
      },
      "source": [
        "def get_first_picture(message):\n",
        "    if message.photo:\n",
        "        file_id = message.photo[-1].file_id\n",
        "        file_path = file_path_tpl.format(\n",
        "            token=token,\n",
        "            file_path=bot.get_file(file_id).file_path\n",
        "        )\n",
        "        __chat_pictures[message.chat.id] = file_path\n",
        "        msg = bot.send_message(message.chat.id, 'Теперь вторую картинку (стиль).', reply_markup=hideBoard)\n",
        "        bot.register_next_step_handler(msg, get_second_picture)\n",
        "    else:\n",
        "        msg = bot.send_message(message.chat.id, 'Нужна именно картинка', reply_markup=hideBoard)\n",
        "        bot.register_next_step_handler(msg, get_first_picture)"
      ],
      "execution_count": 0,
      "outputs": []
    },
    {
      "cell_type": "code",
      "metadata": {
        "id": "8ZeP0OJEisY9",
        "colab_type": "code",
        "colab": {}
      },
      "source": [
        "def get_second_picture(message):\n",
        "    if message.photo:\n",
        "        file_path_1 = __chat_pictures[message.chat.id]\n",
        "\n",
        "        file_id = message.photo[-1].file_id\n",
        "        file_path_2 = file_path_tpl.format(\n",
        "            token=token,\n",
        "            file_path=bot.get_file(file_id).file_path\n",
        "        )\n",
        "        \n",
        "        bot.send_message(message.chat.id, 'Придётся подождать примерно 3-5 минут...', reply_markup=hideBoard)\n",
        "        image = st.StyleTransfer().run(file_path_1, file_path_2)\n",
        "\n",
        "        bio = BytesIO()\n",
        "        bio.name = 'tmp_image'\n",
        "        image.save(bio, 'JPEG')\n",
        "        bio.seek(0)\n",
        "        msg = bot.send_photo(message.chat.id, bio, caption='Результат', reply_markup=hideBoard)\n",
        "        try:\n",
        "            chats_online.pop(message.chat.id)\n",
        "        except:\n",
        "            pass\n",
        "    else:\n",
        "        msg = bot.send_message(message.chat.id, 'Нужна именно картинка', reply_markup=hideBoard)\n",
        "        bot.register_next_step_handler(msg, get_second_picture)  "
      ],
      "execution_count": 0,
      "outputs": []
    },
    {
      "cell_type": "code",
      "metadata": {
        "id": "e1jt0YCHiv2b",
        "colab_type": "code",
        "colab": {}
      },
      "source": [
        "@bot.message_handler(commands=['start'])\n",
        "def start_handler(message):\n",
        "    start(message)"
      ],
      "execution_count": 0,
      "outputs": []
    },
    {
      "cell_type": "code",
      "metadata": {
        "id": "ZkX7nQUfixr2",
        "colab_type": "code",
        "colab": {}
      },
      "source": [
        "@bot.message_handler(commands=['reset'])\n",
        "def reset_handler(message):\n",
        "    msg = bot.send_message(message.chat.id, 'Сброс.', reply_markup=hideBoard)\n",
        "    try:\n",
        "        chats_online.pop(message.chat.id)\n",
        "    except:\n",
        "        pass\n",
        "    bot.register_next_step_handler(msg, start)"
      ],
      "execution_count": 0,
      "outputs": []
    },
    {
      "cell_type": "code",
      "metadata": {
        "id": "yGw519VBizVR",
        "colab_type": "code",
        "colab": {}
      },
      "source": [
        "bot.polling()"
      ],
      "execution_count": 0,
      "outputs": []
    }
  ]
}
